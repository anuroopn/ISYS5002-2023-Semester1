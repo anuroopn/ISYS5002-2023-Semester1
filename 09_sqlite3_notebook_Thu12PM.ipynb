{
  "cells": [
    {
      "cell_type": "markdown",
      "metadata": {
        "id": "view-in-github",
        "colab_type": "text"
      },
      "source": [
        "<a href=\"https://colab.research.google.com/github/isys5002-itp/ISYS5002-2023-Semester1/blob/main/09_sqlite3_notebook_Thu12PM.ipynb\" target=\"_parent\"><img src=\"https://colab.research.google.com/assets/colab-badge.svg\" alt=\"Open In Colab\"/></a>"
      ]
    },
    {
      "cell_type": "markdown",
      "metadata": {
        "id": "mbsVgk4dW_nz"
      },
      "source": [
        "#SQL and Python (and a little Pandas)\n",
        "\n",
        "When it comes to data retrieval and basic statistics, SQL shines, while Python shines for in-depth, flexible exploratory data analysis or data science. What if you could combine the two programming languages into a single application? \n",
        "\n",
        "We will use SQLite3 which is part of the standard Python 3 package, so nothing to install. Let’s take a quick look at the data types that are available:\n",
        "\n",
        "| SQL | Python |\n",
        "|-----|--------|\n",
        "| NULL — Includes a NULL value | none\n",
        "| INTEGER — Includes an integer | int\n",
        "| REAL — Includes a floating-point (decimal) value | float\n",
        "| TEXT. — Includes text | str\n",
        "| BLOB. — Includes a binary large object that is stored exactly as input | bytes\n",
        "\n",
        "In this notebook, we’ll demonstrate\n",
        "\n",
        "* Loading the library\n",
        "* Creating and connecting to your database\n",
        "* Creating database tables\n",
        "* Adding data\n",
        "* Querying data\n",
        "* Deleting data\n",
        "\n",
        "\n",
        "\n",
        "## Import the library\n",
        "\n",
        "Let’s start off the tutorial by loading in the library. We can do this by using the following command"
      ]
    },
    {
      "cell_type": "code",
      "execution_count": null,
      "metadata": {
        "id": "LPimUgLJW-zI"
      },
      "outputs": [],
      "source": [
        "import sqlite3"
      ]
    },
    {
      "cell_type": "markdown",
      "metadata": {
        "id": "Hw8dIXJ-XmD3"
      },
      "source": [
        "## Create a connection\n",
        "\n",
        "We use the connect method and pass the name of the database. Let's create an *superheroes.db*."
      ]
    },
    {
      "cell_type": "code",
      "execution_count": null,
      "metadata": {
        "id": "mrad4SnyXxgQ"
      },
      "outputs": [],
      "source": [
        "conn = sqlite3.connect('superheroes.db')"
      ]
    },
    {
      "cell_type": "markdown",
      "metadata": {
        "id": "mejA7Nv4XyPH"
      },
      "source": [
        "We’ve created a new connection object, as well as a new file called *superheroes.db* in the directory in which you’re working.\n",
        "\n",
        "\n",
        "## Create a cursor object\n",
        "\n",
        "Now that we’ve created a database connection object, our next task is to create a cursor object. A cursor object allows us to execute SQL queries against a database. A cursor acts a middleware between a connection and SQL query"
      ]
    },
    {
      "cell_type": "code",
      "execution_count": null,
      "metadata": {
        "id": "ZTlVz29LYR9b"
      },
      "outputs": [],
      "source": [
        "cur = conn.cursor() #something like 'row' returned from a table"
      ]
    },
    {
      "cell_type": "markdown",
      "metadata": {
        "id": "Sn6PJmYtYdWr"
      },
      "source": [
        "# Create Table\n",
        "\n",
        "Use a common 'pattern'\n",
        "\n",
        "1. Create a SQL command as a string\n",
        "2. User cursor to execture the command\n",
        "3. If needed fetch the results"
      ]
    },
    {
      "cell_type": "code",
      "execution_count": null,
      "metadata": {
        "id": "SIGT5zH0Ykd4"
      },
      "outputs": [],
      "source": [
        "sql = \"\"\"\n",
        "CREATE TABLE IF NOT EXISTS users(\n",
        "   userid INT PRIMARY KEY,\n",
        "   fname TEXT,\n",
        "   lname TEXT,\n",
        "   superhero TEXT,\n",
        "   gender TEXT);\n",
        "\"\"\"\n",
        "\n",
        "# Execute query and commit transaction\n",
        "\n",
        "cur.execute(sql)\n",
        "conn.commit()"
      ]
    },
    {
      "cell_type": "markdown",
      "metadata": {
        "id": "pn3Pj3hlYsBK"
      },
      "source": [
        "The IF NOT EXISTS will help us when reconnecting to the database. The query will allow us to check if the table exists, and if it does, nothing is changed.\n",
        "\n",
        "# Insert into Table\n",
        "\n",
        "Let’s take a look at how to add data with SQLite in Python to the database we just created. Similar to the table generation query, the query to add data uses the cursor object to execute the query."
      ]
    },
    {
      "cell_type": "code",
      "source": [
        "'''\n",
        "INSERT INTO users(userid, fname, lname, superhero, gender) \n",
        "   VALUES('00001', 'Bruce', 'Wayne', 'Batman', 'male');\n",
        "'''"
      ],
      "metadata": {
        "colab": {
          "base_uri": "https://localhost:8080/",
          "height": 36
        },
        "id": "DgdHz1nNfixb",
        "outputId": "7ebd458d-ca2a-4687-9d8a-018ecd148a27"
      },
      "execution_count": null,
      "outputs": [
        {
          "output_type": "execute_result",
          "data": {
            "text/plain": [
              "\"\\nINSERT INTO users(userid, fname, lname, superhero, gender) \\n   VALUES('00001', 'Bruce', 'Wayne', 'Batman', 'male');\\n\""
            ],
            "application/vnd.google.colaboratory.intrinsic+json": {
              "type": "string"
            }
          },
          "metadata": {},
          "execution_count": 5
        }
      ]
    },
    {
      "cell_type": "code",
      "execution_count": null,
      "metadata": {
        "id": "sDDF56NqYy1D"
      },
      "outputs": [],
      "source": [
        "sql = '''\n",
        "INSERT INTO users(userid, fname, lname, superhero, gender) \n",
        "   VALUES('00001', 'Bruce', 'Wayne', 'Batman', 'male');\n",
        "'''\n",
        "\n",
        "# Execute query and commit transaction\n",
        "cur.execute(sql)\n",
        "conn.commit()"
      ]
    },
    {
      "cell_type": "code",
      "source": [
        "sql = '''\n",
        "SELECT * FROM users;\n",
        "'''\n",
        "cur.execute(sql)\n"
      ],
      "metadata": {
        "colab": {
          "base_uri": "https://localhost:8080/"
        },
        "id": "pbdLC19ie7oy",
        "outputId": "88937b05-a797-4448-b22c-1c89b9517a2c"
      },
      "execution_count": null,
      "outputs": [
        {
          "output_type": "execute_result",
          "data": {
            "text/plain": [
              "<sqlite3.Cursor at 0x7f9729554540>"
            ]
          },
          "metadata": {},
          "execution_count": 7
        }
      ]
    },
    {
      "cell_type": "code",
      "source": [
        "all_results = cur.fetchall()\n",
        "(all_results)"
      ],
      "metadata": {
        "colab": {
          "base_uri": "https://localhost:8080/"
        },
        "id": "9eKFiGXiCmK7",
        "outputId": "2d30ea64-d45d-43b4-fc8c-95d2a074f35a"
      },
      "execution_count": null,
      "outputs": [
        {
          "output_type": "execute_result",
          "data": {
            "text/plain": [
              "[(1, 'Bruce', 'Wayne', 'Batman', 'male')]"
            ]
          },
          "metadata": {},
          "execution_count": 8
        }
      ]
    },
    {
      "cell_type": "markdown",
      "metadata": {
        "id": "yGNPSuQ7SDzr"
      },
      "source": [
        "Often, when we’re working within Python, we’ll have variables that hold values for us. For example, we may have a tuple that contains that information about a user which might look like this:"
      ]
    },
    {
      "cell_type": "code",
      "execution_count": null,
      "metadata": {
        "id": "tELkllTPSDT6"
      },
      "outputs": [],
      "source": [
        "user = ('00002', 'Sue', 'Storm', 'Invisible Woman', 'female') # MUST BE A TUPLE!"
      ]
    },
    {
      "cell_type": "markdown",
      "metadata": {
        "id": "lr_29ZdcSQpO"
      },
      "source": [
        "If we wanted to load this data into our database, we would use a different convention:\n",
        "\n"
      ]
    },
    {
      "cell_type": "code",
      "execution_count": null,
      "metadata": {
        "id": "dt35M6mJSO0Q"
      },
      "outputs": [],
      "source": [
        "cur.execute(\"INSERT INTO users VALUES(?, ?, ?, ?, ?);\", user)\n",
        "conn.commit()"
      ]
    },
    {
      "cell_type": "markdown",
      "metadata": {
        "id": "wZHJs2QPShjF"
      },
      "source": [
        "Incidentally, using the (?, ?, …) method we noted above also helps protect against SQL injection attacks. \n",
        "\n",
        "It’s important to note here that the **SQLite expects the values to be in tuple-format**. However, the variable can contain a list, as long as the list items are tuples. For example, we could add more users using the variable:"
      ]
    },
    {
      "cell_type": "code",
      "execution_count": null,
      "metadata": {
        "id": "BgWey1J_UXZt"
      },
      "outputs": [],
      "source": [
        "more_users = [('00003', 'Peter', 'Parker', 'Spider Man', 'male'), \n",
        "              ('00004', 'Tony', 'Stark', 'Ironman', 'male'), \n",
        "              ('00005', 'Diana', 'Princess', 'Wonder Woman', 'female')]"
      ]
    },
    {
      "cell_type": "code",
      "execution_count": null,
      "metadata": {
        "id": "b9xk5aOPSs1W"
      },
      "outputs": [],
      "source": [
        "cur.executemany(\"INSERT INTO users VALUES(?, ?, ?, ?, ?);\", more_users)\n",
        "conn.commit()"
      ]
    },
    {
      "cell_type": "markdown",
      "metadata": {
        "id": "0q9-ZbAHY30U"
      },
      "source": [
        "In this case, instead of using the execute function, we’ll want to use the executemany function\n",
        "\n",
        "## Fetching Data\n",
        "\n",
        "Here we take a look at how to select data with SQLite in Python! We’ll follow a similar structure as we did to execute queries above"
      ]
    },
    {
      "cell_type": "code",
      "execution_count": null,
      "metadata": {
        "id": "K8Qw26zu1rTD",
        "colab": {
          "base_uri": "https://localhost:8080/"
        },
        "outputId": "38cc5472-570b-447a-dc9d-beb06faf8a05"
      },
      "outputs": [
        {
          "output_type": "stream",
          "name": "stdout",
          "text": [
            "(1, 'Bruce', 'Wayne', 'Batman', 'male')\n",
            "(2, 'Sue', 'Storm', 'Invisible Woman', 'female')\n",
            "(3, 'Peter', 'Parker', 'Spider Man', 'male')\n",
            "(4, 'Tony', 'Stark', 'Ironman', 'male')\n",
            "(5, 'Diana', 'Princess', 'Wonder Woman', 'female')\n",
            "(6, 'Bruce', 'Wayne', 'Batman', 'male')\n"
          ]
        }
      ],
      "source": [
        "sql = '''\n",
        "SELECT * FROM users;\n",
        "'''\n",
        "rows = cur.execute(sql)\n",
        "for row in rows:\n",
        "  print(row)"
      ]
    },
    {
      "cell_type": "markdown",
      "metadata": {
        "id": "3wSHZTo210RD"
      },
      "source": [
        "Some useful methods"
      ]
    },
    {
      "cell_type": "code",
      "execution_count": null,
      "metadata": {
        "id": "6fft_Fo-Y6TM",
        "colab": {
          "base_uri": "https://localhost:8080/"
        },
        "outputId": "589c7136-0f60-4977-bcd8-7be9b405bbcc"
      },
      "outputs": [
        {
          "output_type": "stream",
          "name": "stdout",
          "text": [
            "(1, 'Bruce', 'Wayne', 'Batman', 'male')\n"
          ]
        }
      ],
      "source": [
        "sql = '''\n",
        "SELECT * FROM users;\n",
        "'''\n",
        "cur.execute(sql)\n",
        "one_result = cur.fetchone()\n",
        "print(one_result)"
      ]
    },
    {
      "cell_type": "markdown",
      "metadata": {
        "id": "r-FjLFyOTjAV"
      },
      "source": [
        "We wanted to return more than only one result, we could use the fetchmany()"
      ]
    },
    {
      "cell_type": "code",
      "execution_count": null,
      "metadata": {
        "id": "Z77jiumJTcVk",
        "colab": {
          "base_uri": "https://localhost:8080/"
        },
        "outputId": "cb8fc842-7fe8-4180-abfe-4ec59c9bb641"
      },
      "outputs": [
        {
          "output_type": "stream",
          "name": "stdout",
          "text": [
            "[(1, 'Bruce', 'Wayne', 'Batman', 'male'), (2, 'Sue', 'Storm', 'Invisible Woman', 'female'), (3, 'Peter', 'Parker', 'Spider Man', 'male')]\n"
          ]
        }
      ],
      "source": [
        "sql = '''\n",
        "SELECT * FROM users;\n",
        "'''\n",
        "cur.execute(sql)\n",
        "three_results = cur.fetchmany(3)\n",
        "print(three_results)"
      ]
    },
    {
      "cell_type": "markdown",
      "metadata": {
        "id": "C9lg9VV_TwTE"
      },
      "source": [
        "We canuse the fetchall() function to return all the results."
      ]
    },
    {
      "cell_type": "code",
      "execution_count": null,
      "metadata": {
        "id": "vXtmKQQ2T2MQ",
        "colab": {
          "base_uri": "https://localhost:8080/"
        },
        "outputId": "f36397a9-8358-4b00-8fd9-7b4c52516c17"
      },
      "outputs": [
        {
          "output_type": "stream",
          "name": "stdout",
          "text": [
            "[(1, 'Bruce', 'Wayne', 'Batman', 'male'), (2, 'Sue', 'Storm', 'Invisible Woman', 'female'), (3, 'Peter', 'Parker', 'Spider Man', 'male'), (4, 'Tony', 'Stark', 'Ironman', 'male'), (5, 'Diana', 'Princess', 'Wonder Woman', 'female')]\n"
          ]
        }
      ],
      "source": [
        "sql = '''\n",
        "SELECT * FROM users;\n",
        "'''\n",
        "cur.execute(sql)\n",
        "all_results = cur.fetchall()\n",
        "print(all_results)"
      ]
    },
    {
      "cell_type": "code",
      "source": [
        "sql = '''\n",
        "SELECT lname, superhero, fname FROM users;\n",
        "'''\n",
        "cur.execute(sql)\n",
        "all_results = cur.fetchall()\n",
        "print(all_results)"
      ],
      "metadata": {
        "id": "ovH7pqm-kpZl",
        "colab": {
          "base_uri": "https://localhost:8080/"
        },
        "outputId": "1a83d7bc-340e-475b-de2c-1c12a0ee48f5"
      },
      "execution_count": null,
      "outputs": [
        {
          "output_type": "stream",
          "name": "stdout",
          "text": [
            "[('Wayne', 'Batman', 'Bruce'), ('Storm', 'Invisible Woman', 'Sue'), ('Parker', 'Spider Man', 'Peter'), ('Stark', 'Ironman', 'Tony'), ('Princess', 'Wonder Woman', 'Diana')]\n"
          ]
        }
      ]
    },
    {
      "cell_type": "code",
      "source": [
        "user = ('00001', 'Bruce', 'Wayne', 'Batman', 'male') # MUST BE A TUPLE!"
      ],
      "metadata": {
        "id": "_iF0Aa4vEzHs"
      },
      "execution_count": null,
      "outputs": []
    },
    {
      "cell_type": "code",
      "source": [
        "cur.execute(\"INSERT INTO users VALUES(?, ?, ?, ?, ?);\", user)\n",
        "conn.commit()"
      ],
      "metadata": {
        "colab": {
          "base_uri": "https://localhost:8080/",
          "height": 190
        },
        "id": "e2RNgJEQE1pm",
        "outputId": "1cb83c5a-f7b5-4f2a-e9a6-7831305f966a"
      },
      "execution_count": null,
      "outputs": [
        {
          "output_type": "error",
          "ename": "IntegrityError",
          "evalue": "ignored",
          "traceback": [
            "\u001b[0;31m---------------------------------------------------------------------------\u001b[0m",
            "\u001b[0;31mIntegrityError\u001b[0m                            Traceback (most recent call last)",
            "\u001b[0;32m<ipython-input-26-3981b08be478>\u001b[0m in \u001b[0;36m<cell line: 1>\u001b[0;34m()\u001b[0m\n\u001b[0;32m----> 1\u001b[0;31m \u001b[0mcur\u001b[0m\u001b[0;34m.\u001b[0m\u001b[0mexecute\u001b[0m\u001b[0;34m(\u001b[0m\u001b[0;34m\"INSERT INTO users VALUES(?, ?, ?, ?, ?);\"\u001b[0m\u001b[0;34m,\u001b[0m \u001b[0muser\u001b[0m\u001b[0;34m)\u001b[0m\u001b[0;34m\u001b[0m\u001b[0;34m\u001b[0m\u001b[0m\n\u001b[0m\u001b[1;32m      2\u001b[0m \u001b[0mconn\u001b[0m\u001b[0;34m.\u001b[0m\u001b[0mcommit\u001b[0m\u001b[0;34m(\u001b[0m\u001b[0;34m)\u001b[0m\u001b[0;34m\u001b[0m\u001b[0;34m\u001b[0m\u001b[0m\n",
            "\u001b[0;31mIntegrityError\u001b[0m: UNIQUE constraint failed: users.userid"
          ]
        }
      ]
    },
    {
      "cell_type": "markdown",
      "metadata": {
        "id": "-tk5M9E9ZBPO"
      },
      "source": [
        "## Delete Data"
      ]
    },
    {
      "cell_type": "code",
      "source": [
        "sql='''\n",
        "DELETE FROM users WHERE userid='6';\n",
        "'''\n",
        "cur.execute(sql)\n",
        "conn.commit()"
      ],
      "metadata": {
        "id": "CBxbA97kjTHo"
      },
      "execution_count": null,
      "outputs": []
    },
    {
      "cell_type": "code",
      "source": [
        "sql = '''\n",
        "SELECT * FROM users;\n",
        "'''\n",
        "cur.execute(sql)\n",
        "all_results = cur.fetchall()\n",
        "print(all_results)"
      ],
      "metadata": {
        "colab": {
          "base_uri": "https://localhost:8080/"
        },
        "id": "g_-BN9OCFk0q",
        "outputId": "369a1505-f0b7-4765-82a3-f2d8dfe04235"
      },
      "execution_count": null,
      "outputs": [
        {
          "output_type": "stream",
          "name": "stdout",
          "text": [
            "[(1, 'Bruce', 'Wayne', 'Batman', 'male'), (2, 'Sue', 'Storm', 'Invisible Woman', 'female'), (3, 'Peter', 'Parker', 'Spider Man', 'male'), (4, 'Tony', 'Stark', 'Ironman', 'male'), (5, 'Diana', 'Princess', 'Wonder Woman', 'female')]\n"
          ]
        }
      ]
    },
    {
      "cell_type": "code",
      "execution_count": null,
      "metadata": {
        "id": "VI52gWODZCsF"
      },
      "outputs": [],
      "source": [
        "sql='''\n",
        "DELETE FROM users WHERE lname='Parker';\n",
        "'''\n",
        "cur.execute(sql)\n",
        "conn.commit()"
      ]
    },
    {
      "cell_type": "markdown",
      "metadata": {
        "id": "tTH1AnLeU85R"
      },
      "source": [
        "Did it work?"
      ]
    },
    {
      "cell_type": "code",
      "execution_count": null,
      "metadata": {
        "id": "ebIjc2LHU9mt",
        "colab": {
          "base_uri": "https://localhost:8080/"
        },
        "outputId": "f5e507ee-ced2-423d-acb2-ac9b5b3d0011"
      },
      "outputs": [
        {
          "output_type": "execute_result",
          "data": {
            "text/plain": [
              "[]"
            ]
          },
          "metadata": {},
          "execution_count": 30
        }
      ],
      "source": [
        "sql='''\n",
        "select * from users where lname='Parker';\n",
        "'''\n",
        "cur.execute(sql)\n",
        "cur.fetchall()"
      ]
    },
    {
      "cell_type": "code",
      "source": [
        "sql='''\n",
        "select * from users;\n",
        "'''\n",
        "cur.execute(sql)\n",
        "cur.fetchall()"
      ],
      "metadata": {
        "colab": {
          "base_uri": "https://localhost:8080/"
        },
        "id": "Fn0IwMKJGA19",
        "outputId": "c02fd0b4-cbbc-4829-b9cf-e7ef30c7a26a"
      },
      "execution_count": null,
      "outputs": [
        {
          "output_type": "execute_result",
          "data": {
            "text/plain": [
              "[(1, 'Bruce', 'Wayne', 'Batman', 'male'),\n",
              " (2, 'Sue', 'Storm', 'Invisible Woman', 'female'),\n",
              " (4, 'Tony', 'Stark', 'Ironman', 'male'),\n",
              " (5, 'Diana', 'Princess', 'Wonder Woman', 'female')]"
            ]
          },
          "metadata": {},
          "execution_count": 31
        }
      ]
    },
    {
      "cell_type": "markdown",
      "metadata": {
        "id": "KbQjJ0YGVWUD"
      },
      "source": [
        "This prints out an empty list, confirming that the record has been deleted.\n",
        "\n",
        "## pandas\n",
        "\n",
        "We can use the pandas package to read a SQLite database"
      ]
    },
    {
      "cell_type": "code",
      "execution_count": null,
      "metadata": {
        "id": "Ss4ULSPbXEc0",
        "colab": {
          "base_uri": "https://localhost:8080/",
          "height": 206
        },
        "outputId": "fb2aec21-5c8c-4ad2-cf64-f2e60a841679"
      },
      "outputs": [
        {
          "output_type": "execute_result",
          "data": {
            "text/plain": [
              "   userid  fname     lname        superhero  gender\n",
              "0       1  Bruce     Wayne           Batman    male\n",
              "1       2    Sue     Storm  Invisible Woman  female\n",
              "2       4   Tony     Stark          Ironman    male\n",
              "3       5  Diana  Princess     Wonder Woman  female\n",
              "4       3  Peter    Parker        Spiderman    male"
            ],
            "text/html": [
              "\n",
              "  <div id=\"df-99c97500-4a92-4a46-b8e0-76859c334bef\">\n",
              "    <div class=\"colab-df-container\">\n",
              "      <div>\n",
              "<style scoped>\n",
              "    .dataframe tbody tr th:only-of-type {\n",
              "        vertical-align: middle;\n",
              "    }\n",
              "\n",
              "    .dataframe tbody tr th {\n",
              "        vertical-align: top;\n",
              "    }\n",
              "\n",
              "    .dataframe thead th {\n",
              "        text-align: right;\n",
              "    }\n",
              "</style>\n",
              "<table border=\"1\" class=\"dataframe\">\n",
              "  <thead>\n",
              "    <tr style=\"text-align: right;\">\n",
              "      <th></th>\n",
              "      <th>userid</th>\n",
              "      <th>fname</th>\n",
              "      <th>lname</th>\n",
              "      <th>superhero</th>\n",
              "      <th>gender</th>\n",
              "    </tr>\n",
              "  </thead>\n",
              "  <tbody>\n",
              "    <tr>\n",
              "      <th>0</th>\n",
              "      <td>1</td>\n",
              "      <td>Bruce</td>\n",
              "      <td>Wayne</td>\n",
              "      <td>Batman</td>\n",
              "      <td>male</td>\n",
              "    </tr>\n",
              "    <tr>\n",
              "      <th>1</th>\n",
              "      <td>2</td>\n",
              "      <td>Sue</td>\n",
              "      <td>Storm</td>\n",
              "      <td>Invisible Woman</td>\n",
              "      <td>female</td>\n",
              "    </tr>\n",
              "    <tr>\n",
              "      <th>2</th>\n",
              "      <td>4</td>\n",
              "      <td>Tony</td>\n",
              "      <td>Stark</td>\n",
              "      <td>Ironman</td>\n",
              "      <td>male</td>\n",
              "    </tr>\n",
              "    <tr>\n",
              "      <th>3</th>\n",
              "      <td>5</td>\n",
              "      <td>Diana</td>\n",
              "      <td>Princess</td>\n",
              "      <td>Wonder Woman</td>\n",
              "      <td>female</td>\n",
              "    </tr>\n",
              "    <tr>\n",
              "      <th>4</th>\n",
              "      <td>3</td>\n",
              "      <td>Peter</td>\n",
              "      <td>Parker</td>\n",
              "      <td>Spiderman</td>\n",
              "      <td>male</td>\n",
              "    </tr>\n",
              "  </tbody>\n",
              "</table>\n",
              "</div>\n",
              "      <button class=\"colab-df-convert\" onclick=\"convertToInteractive('df-99c97500-4a92-4a46-b8e0-76859c334bef')\"\n",
              "              title=\"Convert this dataframe to an interactive table.\"\n",
              "              style=\"display:none;\">\n",
              "        \n",
              "  <svg xmlns=\"http://www.w3.org/2000/svg\" height=\"24px\"viewBox=\"0 0 24 24\"\n",
              "       width=\"24px\">\n",
              "    <path d=\"M0 0h24v24H0V0z\" fill=\"none\"/>\n",
              "    <path d=\"M18.56 5.44l.94 2.06.94-2.06 2.06-.94-2.06-.94-.94-2.06-.94 2.06-2.06.94zm-11 1L8.5 8.5l.94-2.06 2.06-.94-2.06-.94L8.5 2.5l-.94 2.06-2.06.94zm10 10l.94 2.06.94-2.06 2.06-.94-2.06-.94-.94-2.06-.94 2.06-2.06.94z\"/><path d=\"M17.41 7.96l-1.37-1.37c-.4-.4-.92-.59-1.43-.59-.52 0-1.04.2-1.43.59L10.3 9.45l-7.72 7.72c-.78.78-.78 2.05 0 2.83L4 21.41c.39.39.9.59 1.41.59.51 0 1.02-.2 1.41-.59l7.78-7.78 2.81-2.81c.8-.78.8-2.07 0-2.86zM5.41 20L4 18.59l7.72-7.72 1.47 1.35L5.41 20z\"/>\n",
              "  </svg>\n",
              "      </button>\n",
              "      \n",
              "  <style>\n",
              "    .colab-df-container {\n",
              "      display:flex;\n",
              "      flex-wrap:wrap;\n",
              "      gap: 12px;\n",
              "    }\n",
              "\n",
              "    .colab-df-convert {\n",
              "      background-color: #E8F0FE;\n",
              "      border: none;\n",
              "      border-radius: 50%;\n",
              "      cursor: pointer;\n",
              "      display: none;\n",
              "      fill: #1967D2;\n",
              "      height: 32px;\n",
              "      padding: 0 0 0 0;\n",
              "      width: 32px;\n",
              "    }\n",
              "\n",
              "    .colab-df-convert:hover {\n",
              "      background-color: #E2EBFA;\n",
              "      box-shadow: 0px 1px 2px rgba(60, 64, 67, 0.3), 0px 1px 3px 1px rgba(60, 64, 67, 0.15);\n",
              "      fill: #174EA6;\n",
              "    }\n",
              "\n",
              "    [theme=dark] .colab-df-convert {\n",
              "      background-color: #3B4455;\n",
              "      fill: #D2E3FC;\n",
              "    }\n",
              "\n",
              "    [theme=dark] .colab-df-convert:hover {\n",
              "      background-color: #434B5C;\n",
              "      box-shadow: 0px 1px 3px 1px rgba(0, 0, 0, 0.15);\n",
              "      filter: drop-shadow(0px 1px 2px rgba(0, 0, 0, 0.3));\n",
              "      fill: #FFFFFF;\n",
              "    }\n",
              "  </style>\n",
              "\n",
              "      <script>\n",
              "        const buttonEl =\n",
              "          document.querySelector('#df-99c97500-4a92-4a46-b8e0-76859c334bef button.colab-df-convert');\n",
              "        buttonEl.style.display =\n",
              "          google.colab.kernel.accessAllowed ? 'block' : 'none';\n",
              "\n",
              "        async function convertToInteractive(key) {\n",
              "          const element = document.querySelector('#df-99c97500-4a92-4a46-b8e0-76859c334bef');\n",
              "          const dataTable =\n",
              "            await google.colab.kernel.invokeFunction('convertToInteractive',\n",
              "                                                     [key], {});\n",
              "          if (!dataTable) return;\n",
              "\n",
              "          const docLinkHtml = 'Like what you see? Visit the ' +\n",
              "            '<a target=\"_blank\" href=https://colab.research.google.com/notebooks/data_table.ipynb>data table notebook</a>'\n",
              "            + ' to learn more about interactive tables.';\n",
              "          element.innerHTML = '';\n",
              "          dataTable['output_type'] = 'display_data';\n",
              "          await google.colab.output.renderOutput(dataTable, element);\n",
              "          const docLink = document.createElement('div');\n",
              "          docLink.innerHTML = docLinkHtml;\n",
              "          element.appendChild(docLink);\n",
              "        }\n",
              "      </script>\n",
              "    </div>\n",
              "  </div>\n",
              "  "
            ]
          },
          "metadata": {},
          "execution_count": 39
        }
      ],
      "source": [
        "import pandas as pd\n",
        "\n",
        "sql='''\n",
        "SELECT * from users;\n",
        "'''\n",
        "# Load the data into a DataFrame\n",
        "users_df = pd.read_sql_query(sql, conn)\n",
        "users_df"
      ]
    },
    {
      "cell_type": "markdown",
      "metadata": {
        "id": "LF_y3uQsXAP2"
      },
      "source": [
        "and create table from a dataframe"
      ]
    },
    {
      "cell_type": "code",
      "execution_count": null,
      "metadata": {
        "id": "r9qF-okMYcEp",
        "colab": {
          "base_uri": "https://localhost:8080/",
          "height": 112
        },
        "outputId": "9592d30f-262a-4556-9e07-b7854e32d99b"
      },
      "outputs": [
        {
          "output_type": "execute_result",
          "data": {
            "text/plain": [
              "   userid  fname     lname        superhero  gender\n",
              "1       2    Sue     Storm  Invisible Woman  female\n",
              "3       5  Diana  Princess     Wonder Woman  female"
            ],
            "text/html": [
              "\n",
              "  <div id=\"df-c23cfd22-94f2-43a4-b890-cd021b289911\">\n",
              "    <div class=\"colab-df-container\">\n",
              "      <div>\n",
              "<style scoped>\n",
              "    .dataframe tbody tr th:only-of-type {\n",
              "        vertical-align: middle;\n",
              "    }\n",
              "\n",
              "    .dataframe tbody tr th {\n",
              "        vertical-align: top;\n",
              "    }\n",
              "\n",
              "    .dataframe thead th {\n",
              "        text-align: right;\n",
              "    }\n",
              "</style>\n",
              "<table border=\"1\" class=\"dataframe\">\n",
              "  <thead>\n",
              "    <tr style=\"text-align: right;\">\n",
              "      <th></th>\n",
              "      <th>userid</th>\n",
              "      <th>fname</th>\n",
              "      <th>lname</th>\n",
              "      <th>superhero</th>\n",
              "      <th>gender</th>\n",
              "    </tr>\n",
              "  </thead>\n",
              "  <tbody>\n",
              "    <tr>\n",
              "      <th>1</th>\n",
              "      <td>2</td>\n",
              "      <td>Sue</td>\n",
              "      <td>Storm</td>\n",
              "      <td>Invisible Woman</td>\n",
              "      <td>female</td>\n",
              "    </tr>\n",
              "    <tr>\n",
              "      <th>3</th>\n",
              "      <td>5</td>\n",
              "      <td>Diana</td>\n",
              "      <td>Princess</td>\n",
              "      <td>Wonder Woman</td>\n",
              "      <td>female</td>\n",
              "    </tr>\n",
              "  </tbody>\n",
              "</table>\n",
              "</div>\n",
              "      <button class=\"colab-df-convert\" onclick=\"convertToInteractive('df-c23cfd22-94f2-43a4-b890-cd021b289911')\"\n",
              "              title=\"Convert this dataframe to an interactive table.\"\n",
              "              style=\"display:none;\">\n",
              "        \n",
              "  <svg xmlns=\"http://www.w3.org/2000/svg\" height=\"24px\"viewBox=\"0 0 24 24\"\n",
              "       width=\"24px\">\n",
              "    <path d=\"M0 0h24v24H0V0z\" fill=\"none\"/>\n",
              "    <path d=\"M18.56 5.44l.94 2.06.94-2.06 2.06-.94-2.06-.94-.94-2.06-.94 2.06-2.06.94zm-11 1L8.5 8.5l.94-2.06 2.06-.94-2.06-.94L8.5 2.5l-.94 2.06-2.06.94zm10 10l.94 2.06.94-2.06 2.06-.94-2.06-.94-.94-2.06-.94 2.06-2.06.94z\"/><path d=\"M17.41 7.96l-1.37-1.37c-.4-.4-.92-.59-1.43-.59-.52 0-1.04.2-1.43.59L10.3 9.45l-7.72 7.72c-.78.78-.78 2.05 0 2.83L4 21.41c.39.39.9.59 1.41.59.51 0 1.02-.2 1.41-.59l7.78-7.78 2.81-2.81c.8-.78.8-2.07 0-2.86zM5.41 20L4 18.59l7.72-7.72 1.47 1.35L5.41 20z\"/>\n",
              "  </svg>\n",
              "      </button>\n",
              "      \n",
              "  <style>\n",
              "    .colab-df-container {\n",
              "      display:flex;\n",
              "      flex-wrap:wrap;\n",
              "      gap: 12px;\n",
              "    }\n",
              "\n",
              "    .colab-df-convert {\n",
              "      background-color: #E8F0FE;\n",
              "      border: none;\n",
              "      border-radius: 50%;\n",
              "      cursor: pointer;\n",
              "      display: none;\n",
              "      fill: #1967D2;\n",
              "      height: 32px;\n",
              "      padding: 0 0 0 0;\n",
              "      width: 32px;\n",
              "    }\n",
              "\n",
              "    .colab-df-convert:hover {\n",
              "      background-color: #E2EBFA;\n",
              "      box-shadow: 0px 1px 2px rgba(60, 64, 67, 0.3), 0px 1px 3px 1px rgba(60, 64, 67, 0.15);\n",
              "      fill: #174EA6;\n",
              "    }\n",
              "\n",
              "    [theme=dark] .colab-df-convert {\n",
              "      background-color: #3B4455;\n",
              "      fill: #D2E3FC;\n",
              "    }\n",
              "\n",
              "    [theme=dark] .colab-df-convert:hover {\n",
              "      background-color: #434B5C;\n",
              "      box-shadow: 0px 1px 3px 1px rgba(0, 0, 0, 0.15);\n",
              "      filter: drop-shadow(0px 1px 2px rgba(0, 0, 0, 0.3));\n",
              "      fill: #FFFFFF;\n",
              "    }\n",
              "  </style>\n",
              "\n",
              "      <script>\n",
              "        const buttonEl =\n",
              "          document.querySelector('#df-c23cfd22-94f2-43a4-b890-cd021b289911 button.colab-df-convert');\n",
              "        buttonEl.style.display =\n",
              "          google.colab.kernel.accessAllowed ? 'block' : 'none';\n",
              "\n",
              "        async function convertToInteractive(key) {\n",
              "          const element = document.querySelector('#df-c23cfd22-94f2-43a4-b890-cd021b289911');\n",
              "          const dataTable =\n",
              "            await google.colab.kernel.invokeFunction('convertToInteractive',\n",
              "                                                     [key], {});\n",
              "          if (!dataTable) return;\n",
              "\n",
              "          const docLinkHtml = 'Like what you see? Visit the ' +\n",
              "            '<a target=\"_blank\" href=https://colab.research.google.com/notebooks/data_table.ipynb>data table notebook</a>'\n",
              "            + ' to learn more about interactive tables.';\n",
              "          element.innerHTML = '';\n",
              "          dataTable['output_type'] = 'display_data';\n",
              "          await google.colab.output.renderOutput(dataTable, element);\n",
              "          const docLink = document.createElement('div');\n",
              "          docLink.innerHTML = docLinkHtml;\n",
              "          element.appendChild(docLink);\n",
              "        }\n",
              "      </script>\n",
              "    </div>\n",
              "  </div>\n",
              "  "
            ]
          },
          "metadata": {},
          "execution_count": 35
        }
      ],
      "source": [
        "# Select only data for females\n",
        "users_female_df = users_df[users_df.gender == 'female']\n",
        "users_female_df"
      ]
    },
    {
      "cell_type": "code",
      "source": [
        "# Write the new DataFrame to a new SQLite table\n",
        "users_female_df.to_sql(\"females\", conn, if_exists='replace')"
      ],
      "metadata": {
        "colab": {
          "base_uri": "https://localhost:8080/"
        },
        "id": "7Zmu8iLcH6vP",
        "outputId": "89281fdd-3853-4fa2-b362-dc9127462a19"
      },
      "execution_count": null,
      "outputs": [
        {
          "output_type": "execute_result",
          "data": {
            "text/plain": [
              "2"
            ]
          },
          "metadata": {},
          "execution_count": 36
        }
      ]
    },
    {
      "cell_type": "markdown",
      "source": [
        "## Activity\n",
        "\n",
        "- insert Spiderman info\n",
        "- create 'male' sperheroes table"
      ],
      "metadata": {
        "id": "pwqsbs3vmM4M"
      }
    },
    {
      "cell_type": "code",
      "source": [
        "sql = '''\n",
        "INSERT INTO users(userid, fname, lname, superhero, gender) \n",
        "   VALUES('00003', 'Peter', 'Parker', 'Spiderman', 'male');\n",
        "'''\n",
        "# Execute query and commit transaction\n",
        "cur.execute(sql)\n",
        "conn.commit()"
      ],
      "metadata": {
        "id": "B3hKIegYmIkw",
        "colab": {
          "base_uri": "https://localhost:8080/",
          "height": 226
        },
        "outputId": "c81c43ac-c400-478a-cbbf-41ea5c86661d"
      },
      "execution_count": null,
      "outputs": [
        {
          "output_type": "error",
          "ename": "IntegrityError",
          "evalue": "ignored",
          "traceback": [
            "\u001b[0;31m---------------------------------------------------------------------------\u001b[0m",
            "\u001b[0;31mIntegrityError\u001b[0m                            Traceback (most recent call last)",
            "\u001b[0;32m<ipython-input-38-dd981b78c334>\u001b[0m in \u001b[0;36m<cell line: 6>\u001b[0;34m()\u001b[0m\n\u001b[1;32m      4\u001b[0m '''\n\u001b[1;32m      5\u001b[0m \u001b[0;31m# Execute query and commit transaction\u001b[0m\u001b[0;34m\u001b[0m\u001b[0;34m\u001b[0m\u001b[0m\n\u001b[0;32m----> 6\u001b[0;31m \u001b[0mcur\u001b[0m\u001b[0;34m.\u001b[0m\u001b[0mexecute\u001b[0m\u001b[0;34m(\u001b[0m\u001b[0msql\u001b[0m\u001b[0;34m)\u001b[0m\u001b[0;34m\u001b[0m\u001b[0;34m\u001b[0m\u001b[0m\n\u001b[0m\u001b[1;32m      7\u001b[0m \u001b[0mconn\u001b[0m\u001b[0;34m.\u001b[0m\u001b[0mcommit\u001b[0m\u001b[0;34m(\u001b[0m\u001b[0;34m)\u001b[0m\u001b[0;34m\u001b[0m\u001b[0;34m\u001b[0m\u001b[0m\n",
            "\u001b[0;31mIntegrityError\u001b[0m: UNIQUE constraint failed: users.userid"
          ]
        }
      ]
    },
    {
      "cell_type": "code",
      "source": [
        "# Select only data for males\n",
        "users_male_df = users_df[users_df.gender == 'male']\n",
        "users_male_df\n"
      ],
      "metadata": {
        "id": "kleJB0rSmuB8",
        "colab": {
          "base_uri": "https://localhost:8080/",
          "height": 143
        },
        "outputId": "0be48401-b40e-4f6a-8ccb-312c1f6e601b"
      },
      "execution_count": null,
      "outputs": [
        {
          "output_type": "execute_result",
          "data": {
            "text/plain": [
              "   userid  fname   lname  superhero gender\n",
              "0       1  Bruce   Wayne     Batman   male\n",
              "2       4   Tony   Stark    Ironman   male\n",
              "4       3  Peter  Parker  Spiderman   male"
            ],
            "text/html": [
              "\n",
              "  <div id=\"df-f7a00882-6388-437a-8aea-20cd76fe22f2\">\n",
              "    <div class=\"colab-df-container\">\n",
              "      <div>\n",
              "<style scoped>\n",
              "    .dataframe tbody tr th:only-of-type {\n",
              "        vertical-align: middle;\n",
              "    }\n",
              "\n",
              "    .dataframe tbody tr th {\n",
              "        vertical-align: top;\n",
              "    }\n",
              "\n",
              "    .dataframe thead th {\n",
              "        text-align: right;\n",
              "    }\n",
              "</style>\n",
              "<table border=\"1\" class=\"dataframe\">\n",
              "  <thead>\n",
              "    <tr style=\"text-align: right;\">\n",
              "      <th></th>\n",
              "      <th>userid</th>\n",
              "      <th>fname</th>\n",
              "      <th>lname</th>\n",
              "      <th>superhero</th>\n",
              "      <th>gender</th>\n",
              "    </tr>\n",
              "  </thead>\n",
              "  <tbody>\n",
              "    <tr>\n",
              "      <th>0</th>\n",
              "      <td>1</td>\n",
              "      <td>Bruce</td>\n",
              "      <td>Wayne</td>\n",
              "      <td>Batman</td>\n",
              "      <td>male</td>\n",
              "    </tr>\n",
              "    <tr>\n",
              "      <th>2</th>\n",
              "      <td>4</td>\n",
              "      <td>Tony</td>\n",
              "      <td>Stark</td>\n",
              "      <td>Ironman</td>\n",
              "      <td>male</td>\n",
              "    </tr>\n",
              "    <tr>\n",
              "      <th>4</th>\n",
              "      <td>3</td>\n",
              "      <td>Peter</td>\n",
              "      <td>Parker</td>\n",
              "      <td>Spiderman</td>\n",
              "      <td>male</td>\n",
              "    </tr>\n",
              "  </tbody>\n",
              "</table>\n",
              "</div>\n",
              "      <button class=\"colab-df-convert\" onclick=\"convertToInteractive('df-f7a00882-6388-437a-8aea-20cd76fe22f2')\"\n",
              "              title=\"Convert this dataframe to an interactive table.\"\n",
              "              style=\"display:none;\">\n",
              "        \n",
              "  <svg xmlns=\"http://www.w3.org/2000/svg\" height=\"24px\"viewBox=\"0 0 24 24\"\n",
              "       width=\"24px\">\n",
              "    <path d=\"M0 0h24v24H0V0z\" fill=\"none\"/>\n",
              "    <path d=\"M18.56 5.44l.94 2.06.94-2.06 2.06-.94-2.06-.94-.94-2.06-.94 2.06-2.06.94zm-11 1L8.5 8.5l.94-2.06 2.06-.94-2.06-.94L8.5 2.5l-.94 2.06-2.06.94zm10 10l.94 2.06.94-2.06 2.06-.94-2.06-.94-.94-2.06-.94 2.06-2.06.94z\"/><path d=\"M17.41 7.96l-1.37-1.37c-.4-.4-.92-.59-1.43-.59-.52 0-1.04.2-1.43.59L10.3 9.45l-7.72 7.72c-.78.78-.78 2.05 0 2.83L4 21.41c.39.39.9.59 1.41.59.51 0 1.02-.2 1.41-.59l7.78-7.78 2.81-2.81c.8-.78.8-2.07 0-2.86zM5.41 20L4 18.59l7.72-7.72 1.47 1.35L5.41 20z\"/>\n",
              "  </svg>\n",
              "      </button>\n",
              "      \n",
              "  <style>\n",
              "    .colab-df-container {\n",
              "      display:flex;\n",
              "      flex-wrap:wrap;\n",
              "      gap: 12px;\n",
              "    }\n",
              "\n",
              "    .colab-df-convert {\n",
              "      background-color: #E8F0FE;\n",
              "      border: none;\n",
              "      border-radius: 50%;\n",
              "      cursor: pointer;\n",
              "      display: none;\n",
              "      fill: #1967D2;\n",
              "      height: 32px;\n",
              "      padding: 0 0 0 0;\n",
              "      width: 32px;\n",
              "    }\n",
              "\n",
              "    .colab-df-convert:hover {\n",
              "      background-color: #E2EBFA;\n",
              "      box-shadow: 0px 1px 2px rgba(60, 64, 67, 0.3), 0px 1px 3px 1px rgba(60, 64, 67, 0.15);\n",
              "      fill: #174EA6;\n",
              "    }\n",
              "\n",
              "    [theme=dark] .colab-df-convert {\n",
              "      background-color: #3B4455;\n",
              "      fill: #D2E3FC;\n",
              "    }\n",
              "\n",
              "    [theme=dark] .colab-df-convert:hover {\n",
              "      background-color: #434B5C;\n",
              "      box-shadow: 0px 1px 3px 1px rgba(0, 0, 0, 0.15);\n",
              "      filter: drop-shadow(0px 1px 2px rgba(0, 0, 0, 0.3));\n",
              "      fill: #FFFFFF;\n",
              "    }\n",
              "  </style>\n",
              "\n",
              "      <script>\n",
              "        const buttonEl =\n",
              "          document.querySelector('#df-f7a00882-6388-437a-8aea-20cd76fe22f2 button.colab-df-convert');\n",
              "        buttonEl.style.display =\n",
              "          google.colab.kernel.accessAllowed ? 'block' : 'none';\n",
              "\n",
              "        async function convertToInteractive(key) {\n",
              "          const element = document.querySelector('#df-f7a00882-6388-437a-8aea-20cd76fe22f2');\n",
              "          const dataTable =\n",
              "            await google.colab.kernel.invokeFunction('convertToInteractive',\n",
              "                                                     [key], {});\n",
              "          if (!dataTable) return;\n",
              "\n",
              "          const docLinkHtml = 'Like what you see? Visit the ' +\n",
              "            '<a target=\"_blank\" href=https://colab.research.google.com/notebooks/data_table.ipynb>data table notebook</a>'\n",
              "            + ' to learn more about interactive tables.';\n",
              "          element.innerHTML = '';\n",
              "          dataTable['output_type'] = 'display_data';\n",
              "          await google.colab.output.renderOutput(dataTable, element);\n",
              "          const docLink = document.createElement('div');\n",
              "          docLink.innerHTML = docLinkHtml;\n",
              "          element.appendChild(docLink);\n",
              "        }\n",
              "      </script>\n",
              "    </div>\n",
              "  </div>\n",
              "  "
            ]
          },
          "metadata": {},
          "execution_count": 43
        }
      ]
    },
    {
      "cell_type": "code",
      "source": [
        "# Write the new DataFrame to a new SQLite table\n",
        "users_male_df.to_sql(\"males\", conn, if_exists='replace')"
      ],
      "metadata": {
        "colab": {
          "base_uri": "https://localhost:8080/"
        },
        "id": "8_nMmXXIJ2E9",
        "outputId": "e8c10717-0e22-421e-b406-6e10ae050870"
      },
      "execution_count": null,
      "outputs": [
        {
          "output_type": "execute_result",
          "data": {
            "text/plain": [
              "3"
            ]
          },
          "metadata": {},
          "execution_count": 44
        }
      ]
    },
    {
      "cell_type": "markdown",
      "metadata": {
        "id": "ZqFcuamRZJ9W"
      },
      "source": [
        "## View Schema\n",
        "\n",
        "Was the new table added.  Lets have a look at the schema."
      ]
    },
    {
      "cell_type": "code",
      "execution_count": null,
      "metadata": {
        "id": "1Ovfl-_OZOPk",
        "colab": {
          "base_uri": "https://localhost:8080/"
        },
        "outputId": "b2cdbb51-ddb0-4db3-a7b3-25b2674f6858"
      },
      "outputs": [
        {
          "output_type": "execute_result",
          "data": {
            "text/plain": [
              "[('users',), ('females',), ('males',)]"
            ]
          },
          "metadata": {},
          "execution_count": 45
        }
      ],
      "source": [
        "sql='''\n",
        "SELECT name FROM sqlite_master WHERE type='table';\n",
        "'''\n",
        "cur.execute(sql)\n",
        "cur.fetchall()"
      ]
    },
    {
      "cell_type": "markdown",
      "metadata": {
        "id": "HxepPCmHZZr4"
      },
      "source": [
        "Now lets get details on a table"
      ]
    },
    {
      "cell_type": "code",
      "execution_count": null,
      "metadata": {
        "id": "tCo1Xrd_ZMR0",
        "colab": {
          "base_uri": "https://localhost:8080/"
        },
        "outputId": "67b65c6c-c3b8-4c63-83cc-af9de257135f"
      },
      "outputs": [
        {
          "output_type": "execute_result",
          "data": {
            "text/plain": [
              "[(0, 'userid', 'INT', 0, None, 1),\n",
              " (1, 'fname', 'TEXT', 0, None, 0),\n",
              " (2, 'lname', 'TEXT', 0, None, 0),\n",
              " (3, 'superhero', 'TEXT', 0, None, 0),\n",
              " (4, 'gender', 'TEXT', 0, None, 0)]"
            ]
          },
          "metadata": {},
          "execution_count": 46
        }
      ],
      "source": [
        "sql='''\n",
        "PRAGMA table_info('users');\n",
        "'''\n",
        "cur.execute(sql)\n",
        "cur.fetchall()"
      ]
    },
    {
      "cell_type": "markdown",
      "metadata": {
        "id": "-ldwT9WyZE-2"
      },
      "source": [
        "## Delete (Drop) Table\n",
        "\n",
        "When the IF EXISTS clause is used along with DROP TABLE syntax SQLite will not report any error message if the table does not exist."
      ]
    },
    {
      "cell_type": "code",
      "execution_count": null,
      "metadata": {
        "id": "cyFWke0AZHI-",
        "colab": {
          "base_uri": "https://localhost:8080/"
        },
        "outputId": "ef395713-342c-4426-ee4a-88fedefd638f"
      },
      "outputs": [
        {
          "output_type": "execute_result",
          "data": {
            "text/plain": [
              "[]"
            ]
          },
          "metadata": {},
          "execution_count": 47
        }
      ],
      "source": [
        "sql='''\n",
        "DROP TABLE IF EXISTS males;\n",
        "'''\n",
        "cur.execute(sql)\n",
        "cur.fetchall()"
      ]
    },
    {
      "cell_type": "markdown",
      "metadata": {
        "id": "Ni6mB6QsaKmP"
      },
      "source": [
        "Did it work?"
      ]
    },
    {
      "cell_type": "code",
      "execution_count": null,
      "metadata": {
        "id": "PJwfJLZoaLG4",
        "colab": {
          "base_uri": "https://localhost:8080/"
        },
        "outputId": "bdf7be6f-39d4-42ae-ed04-585189cec149"
      },
      "outputs": [
        {
          "output_type": "execute_result",
          "data": {
            "text/plain": [
              "[('users',), ('females',)]"
            ]
          },
          "metadata": {},
          "execution_count": 48
        }
      ],
      "source": [
        "sql='''\n",
        "SELECT name FROM sqlite_master WHERE type='table';\n",
        "'''\n",
        "cur.execute(sql)\n",
        "cur.fetchall()"
      ]
    },
    {
      "cell_type": "markdown",
      "source": [
        "## Activity - Order the table by 'userid' and display the result"
      ],
      "metadata": {
        "id": "iTX9zLLCnxim"
      }
    },
    {
      "cell_type": "code",
      "source": [
        "import pandas as pd\n",
        "\n",
        "sql='''\n",
        "SELECT * from users;\n",
        "'''\n",
        "# Load the data into a DataFrame\n",
        "users_df = pd.read_sql_query(sql, conn)\n",
        "users_df"
      ],
      "metadata": {
        "colab": {
          "base_uri": "https://localhost:8080/",
          "height": 206
        },
        "id": "fS_N2RfpK0wr",
        "outputId": "bed99c0e-d4ab-4514-b55c-2ec684fe99b7"
      },
      "execution_count": null,
      "outputs": [
        {
          "output_type": "execute_result",
          "data": {
            "text/plain": [
              "   userid  fname     lname        superhero  gender\n",
              "0       1  Bruce     Wayne           Batman    male\n",
              "1       2    Sue     Storm  Invisible Woman  female\n",
              "2       4   Tony     Stark          Ironman    male\n",
              "3       5  Diana  Princess     Wonder Woman  female\n",
              "4       3  Peter    Parker        Spiderman    male"
            ],
            "text/html": [
              "\n",
              "  <div id=\"df-5727baa3-775f-4155-a1f0-a1dddaf12bb3\">\n",
              "    <div class=\"colab-df-container\">\n",
              "      <div>\n",
              "<style scoped>\n",
              "    .dataframe tbody tr th:only-of-type {\n",
              "        vertical-align: middle;\n",
              "    }\n",
              "\n",
              "    .dataframe tbody tr th {\n",
              "        vertical-align: top;\n",
              "    }\n",
              "\n",
              "    .dataframe thead th {\n",
              "        text-align: right;\n",
              "    }\n",
              "</style>\n",
              "<table border=\"1\" class=\"dataframe\">\n",
              "  <thead>\n",
              "    <tr style=\"text-align: right;\">\n",
              "      <th></th>\n",
              "      <th>userid</th>\n",
              "      <th>fname</th>\n",
              "      <th>lname</th>\n",
              "      <th>superhero</th>\n",
              "      <th>gender</th>\n",
              "    </tr>\n",
              "  </thead>\n",
              "  <tbody>\n",
              "    <tr>\n",
              "      <th>0</th>\n",
              "      <td>1</td>\n",
              "      <td>Bruce</td>\n",
              "      <td>Wayne</td>\n",
              "      <td>Batman</td>\n",
              "      <td>male</td>\n",
              "    </tr>\n",
              "    <tr>\n",
              "      <th>1</th>\n",
              "      <td>2</td>\n",
              "      <td>Sue</td>\n",
              "      <td>Storm</td>\n",
              "      <td>Invisible Woman</td>\n",
              "      <td>female</td>\n",
              "    </tr>\n",
              "    <tr>\n",
              "      <th>2</th>\n",
              "      <td>4</td>\n",
              "      <td>Tony</td>\n",
              "      <td>Stark</td>\n",
              "      <td>Ironman</td>\n",
              "      <td>male</td>\n",
              "    </tr>\n",
              "    <tr>\n",
              "      <th>3</th>\n",
              "      <td>5</td>\n",
              "      <td>Diana</td>\n",
              "      <td>Princess</td>\n",
              "      <td>Wonder Woman</td>\n",
              "      <td>female</td>\n",
              "    </tr>\n",
              "    <tr>\n",
              "      <th>4</th>\n",
              "      <td>3</td>\n",
              "      <td>Peter</td>\n",
              "      <td>Parker</td>\n",
              "      <td>Spiderman</td>\n",
              "      <td>male</td>\n",
              "    </tr>\n",
              "  </tbody>\n",
              "</table>\n",
              "</div>\n",
              "      <button class=\"colab-df-convert\" onclick=\"convertToInteractive('df-5727baa3-775f-4155-a1f0-a1dddaf12bb3')\"\n",
              "              title=\"Convert this dataframe to an interactive table.\"\n",
              "              style=\"display:none;\">\n",
              "        \n",
              "  <svg xmlns=\"http://www.w3.org/2000/svg\" height=\"24px\"viewBox=\"0 0 24 24\"\n",
              "       width=\"24px\">\n",
              "    <path d=\"M0 0h24v24H0V0z\" fill=\"none\"/>\n",
              "    <path d=\"M18.56 5.44l.94 2.06.94-2.06 2.06-.94-2.06-.94-.94-2.06-.94 2.06-2.06.94zm-11 1L8.5 8.5l.94-2.06 2.06-.94-2.06-.94L8.5 2.5l-.94 2.06-2.06.94zm10 10l.94 2.06.94-2.06 2.06-.94-2.06-.94-.94-2.06-.94 2.06-2.06.94z\"/><path d=\"M17.41 7.96l-1.37-1.37c-.4-.4-.92-.59-1.43-.59-.52 0-1.04.2-1.43.59L10.3 9.45l-7.72 7.72c-.78.78-.78 2.05 0 2.83L4 21.41c.39.39.9.59 1.41.59.51 0 1.02-.2 1.41-.59l7.78-7.78 2.81-2.81c.8-.78.8-2.07 0-2.86zM5.41 20L4 18.59l7.72-7.72 1.47 1.35L5.41 20z\"/>\n",
              "  </svg>\n",
              "      </button>\n",
              "      \n",
              "  <style>\n",
              "    .colab-df-container {\n",
              "      display:flex;\n",
              "      flex-wrap:wrap;\n",
              "      gap: 12px;\n",
              "    }\n",
              "\n",
              "    .colab-df-convert {\n",
              "      background-color: #E8F0FE;\n",
              "      border: none;\n",
              "      border-radius: 50%;\n",
              "      cursor: pointer;\n",
              "      display: none;\n",
              "      fill: #1967D2;\n",
              "      height: 32px;\n",
              "      padding: 0 0 0 0;\n",
              "      width: 32px;\n",
              "    }\n",
              "\n",
              "    .colab-df-convert:hover {\n",
              "      background-color: #E2EBFA;\n",
              "      box-shadow: 0px 1px 2px rgba(60, 64, 67, 0.3), 0px 1px 3px 1px rgba(60, 64, 67, 0.15);\n",
              "      fill: #174EA6;\n",
              "    }\n",
              "\n",
              "    [theme=dark] .colab-df-convert {\n",
              "      background-color: #3B4455;\n",
              "      fill: #D2E3FC;\n",
              "    }\n",
              "\n",
              "    [theme=dark] .colab-df-convert:hover {\n",
              "      background-color: #434B5C;\n",
              "      box-shadow: 0px 1px 3px 1px rgba(0, 0, 0, 0.15);\n",
              "      filter: drop-shadow(0px 1px 2px rgba(0, 0, 0, 0.3));\n",
              "      fill: #FFFFFF;\n",
              "    }\n",
              "  </style>\n",
              "\n",
              "      <script>\n",
              "        const buttonEl =\n",
              "          document.querySelector('#df-5727baa3-775f-4155-a1f0-a1dddaf12bb3 button.colab-df-convert');\n",
              "        buttonEl.style.display =\n",
              "          google.colab.kernel.accessAllowed ? 'block' : 'none';\n",
              "\n",
              "        async function convertToInteractive(key) {\n",
              "          const element = document.querySelector('#df-5727baa3-775f-4155-a1f0-a1dddaf12bb3');\n",
              "          const dataTable =\n",
              "            await google.colab.kernel.invokeFunction('convertToInteractive',\n",
              "                                                     [key], {});\n",
              "          if (!dataTable) return;\n",
              "\n",
              "          const docLinkHtml = 'Like what you see? Visit the ' +\n",
              "            '<a target=\"_blank\" href=https://colab.research.google.com/notebooks/data_table.ipynb>data table notebook</a>'\n",
              "            + ' to learn more about interactive tables.';\n",
              "          element.innerHTML = '';\n",
              "          dataTable['output_type'] = 'display_data';\n",
              "          await google.colab.output.renderOutput(dataTable, element);\n",
              "          const docLink = document.createElement('div');\n",
              "          docLink.innerHTML = docLinkHtml;\n",
              "          element.appendChild(docLink);\n",
              "        }\n",
              "      </script>\n",
              "    </div>\n",
              "  </div>\n",
              "  "
            ]
          },
          "metadata": {},
          "execution_count": 49
        }
      ]
    },
    {
      "cell_type": "code",
      "source": [
        "sql = '''\n",
        "SELECT * FROM users ORDER BY userid\n",
        "'''\n",
        "cur.execute(sql)\n",
        "cur.fetchall()"
      ],
      "metadata": {
        "id": "u1om93Tgn3oq",
        "colab": {
          "base_uri": "https://localhost:8080/"
        },
        "outputId": "bce537e5-248b-45d2-dfac-85fee50fcd04"
      },
      "execution_count": null,
      "outputs": [
        {
          "output_type": "execute_result",
          "data": {
            "text/plain": [
              "[(1, 'Bruce', 'Wayne', 'Batman', 'male'),\n",
              " (2, 'Sue', 'Storm', 'Invisible Woman', 'female'),\n",
              " (3, 'Peter', 'Parker', 'Spiderman', 'male'),\n",
              " (4, 'Tony', 'Stark', 'Ironman', 'male'),\n",
              " (5, 'Diana', 'Princess', 'Wonder Woman', 'female')]"
            ]
          },
          "metadata": {},
          "execution_count": 54
        }
      ]
    },
    {
      "cell_type": "code",
      "source": [
        "sql = '''\n",
        "SELECT fname, lname FROM users WHERE gender == 'male'\n",
        "'''\n",
        "cur.execute(sql)\n",
        "cur.fetchall()"
      ],
      "metadata": {
        "colab": {
          "base_uri": "https://localhost:8080/"
        },
        "id": "HxvT9fLdLiTV",
        "outputId": "7f9e2abf-681d-4444-b658-2ffda9d6b011"
      },
      "execution_count": null,
      "outputs": [
        {
          "output_type": "execute_result",
          "data": {
            "text/plain": [
              "[('Bruce', 'Wayne'), ('Tony', 'Stark'), ('Peter', 'Parker')]"
            ]
          },
          "metadata": {},
          "execution_count": 61
        }
      ]
    },
    {
      "cell_type": "markdown",
      "metadata": {
        "id": "Y8sPnYirV152"
      },
      "source": [
        "## Close the connection\n",
        "\n",
        "The connection must be closed at the end of the session "
      ]
    },
    {
      "cell_type": "code",
      "execution_count": null,
      "metadata": {
        "id": "Mvp_-UkEV7cu"
      },
      "outputs": [],
      "source": [
        "conn.close()"
      ]
    }
  ],
  "metadata": {
    "colab": {
      "provenance": [],
      "include_colab_link": true
    },
    "kernelspec": {
      "display_name": "Python 3 (ipykernel)",
      "language": "python",
      "name": "python3"
    },
    "language_info": {
      "codemirror_mode": {
        "name": "ipython",
        "version": 3
      },
      "file_extension": ".py",
      "mimetype": "text/x-python",
      "name": "python",
      "nbconvert_exporter": "python",
      "pygments_lexer": "ipython3",
      "version": "3.9.7"
    }
  },
  "nbformat": 4,
  "nbformat_minor": 0
}