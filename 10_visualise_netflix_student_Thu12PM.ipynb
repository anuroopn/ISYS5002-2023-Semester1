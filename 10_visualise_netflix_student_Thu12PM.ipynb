{
  "cells": [
    {
      "cell_type": "markdown",
      "metadata": {
        "id": "view-in-github",
        "colab_type": "text"
      },
      "source": [
        "<a href=\"https://colab.research.google.com/github/isys5002-itp/ISYS5002-2023-Semester1/blob/main/10_visualise_netflix_student_Thu12PM.ipynb\" target=\"_parent\"><img src=\"https://colab.research.google.com/assets/colab-badge.svg\" alt=\"Open In Colab\"/></a>"
      ]
    },
    {
      "cell_type": "markdown",
      "id": "5aa1782a-f979-430a-a429-9a3fc424b066",
      "metadata": {
        "tags": [],
        "id": "5aa1782a-f979-430a-a429-9a3fc424b066"
      },
      "source": [
        "Write a program that reads the netflix.csv file and counts the number of titles in the each genres for movies produced in Australia.\n",
        "Plot the number of movies in each genre."
      ]
    },
    {
      "cell_type": "markdown",
      "source": [
        "Reference source: https://wuraolaifeoluwa.medium.com/basic-data-wrangling-and-visualization-of-netflix-data-8b9609328f8c"
      ],
      "metadata": {
        "id": "f3wuRWk9Jiuh"
      },
      "id": "f3wuRWk9Jiuh"
    },
    {
      "cell_type": "code",
      "source": [
        "import pandas as pd\n",
        "netflix_df = pd.read_csv(\"netflix_data.csv\")"
      ],
      "metadata": {
        "id": "JZRRuxTT0ymo"
      },
      "id": "JZRRuxTT0ymo",
      "execution_count": null,
      "outputs": []
    },
    {
      "cell_type": "code",
      "source": [
        "netflix_df.info()"
      ],
      "metadata": {
        "id": "yAhULWCV1Bl4"
      },
      "id": "yAhULWCV1Bl4",
      "execution_count": null,
      "outputs": []
    },
    {
      "cell_type": "code",
      "source": [
        "netflix_df.head()"
      ],
      "metadata": {
        "id": "7doAabz086vL"
      },
      "id": "7doAabz086vL",
      "execution_count": null,
      "outputs": []
    },
    {
      "cell_type": "code",
      "source": [
        "#  count the number of missing values (also known as \"null\" or \"NaN\" values) in each column\n",
        "netflix_df.isnull().sum()"
      ],
      "metadata": {
        "id": "971tGKdzjOJW"
      },
      "id": "971tGKdzjOJW",
      "execution_count": null,
      "outputs": []
    },
    {
      "cell_type": "code",
      "source": [
        "#date_added\n",
        "# forward fill method to fill null values in column ‘date_added’\n",
        "netflix_df['date_added'] = netflix_df.date_added.fillna(method ='ffill')\n",
        "\n",
        "#country\n",
        "# filled ‘country’ columns with the most occurring values because the columns is categorical contain data with unique values. \n",
        "netflix_df['country'] = netflix_df.country.fillna(netflix_df['country'].mode()[0])"
      ],
      "metadata": {
        "id": "Uhip6cA3kCxE"
      },
      "id": "Uhip6cA3kCxE",
      "execution_count": null,
      "outputs": []
    },
    {
      "cell_type": "code",
      "source": [
        "netflix_df.isnull().sum()"
      ],
      "metadata": {
        "id": "5oT7fFs1kyG8"
      },
      "id": "5oT7fFs1kyG8",
      "execution_count": null,
      "outputs": []
    },
    {
      "cell_type": "markdown",
      "source": [
        "Python Pandas Tutorial: A Complete Introduction for Beginners: \n",
        "https://www.learndatasci.com/tutorials/python-pandas-tutorial-complete-introduction-for-beginners/\n",
        "\n"
      ],
      "metadata": {
        "id": "DWHumAfeqOXQ"
      },
      "id": "DWHumAfeqOXQ"
    },
    {
      "cell_type": "code",
      "source": [
        "# selecting one column\n",
        "# This will return a Series. \n",
        "df_series = netflix_df['release_year']\n",
        "print(df_series)\n",
        "\n",
        "# To extract a column as a DataFrame, you need to pass a list of column names. \n",
        "df_release_year = netflix_df[['release_year']]\n",
        "df_release_year"
      ],
      "metadata": {
        "id": "JVGCCQRkmhSR"
      },
      "id": "JVGCCQRkmhSR",
      "execution_count": null,
      "outputs": []
    },
    {
      "cell_type": "code",
      "source": [
        "# selecting two columns\n",
        "two_column = ['release_year','genre']\n",
        "netflix_df[two_column]\n",
        "# OR\n",
        "# netflix_df[['release_year', 'genre']]"
      ],
      "metadata": {
        "id": "jW_p9EuKlFEe"
      },
      "id": "jW_p9EuKlFEe",
      "execution_count": null,
      "outputs": []
    },
    {
      "cell_type": "code",
      "source": [
        "subset_df = netflix_df[['show_id', 'country','release_year', 'genre', 'type', 'duration']]\n",
        "subset_df"
      ],
      "metadata": {
        "id": "El-qgxAss6Y-"
      },
      "id": "El-qgxAss6Y-",
      "execution_count": null,
      "outputs": []
    },
    {
      "cell_type": "code",
      "source": [
        "subset_df.info()\n"
      ],
      "metadata": {
        "id": "sql8BIMzu1Vu"
      },
      "id": "sql8BIMzu1Vu",
      "execution_count": null,
      "outputs": []
    },
    {
      "cell_type": "code",
      "source": [
        "import pandas as pd\n",
        "\n",
        "df = subset_df\n",
        "\n",
        "# group the data by type, and calculate the mean release year and count of show_id for each group\n",
        "grouped = df.groupby(['country', 'type']).agg({'duration': 'mean'})\n",
        "\n",
        "# print the result\n",
        "print(grouped)\n"
      ],
      "metadata": {
        "id": "UMsE9lyCMYWl"
      },
      "id": "UMsE9lyCMYWl",
      "execution_count": null,
      "outputs": []
    },
    {
      "cell_type": "code",
      "source": [
        "# use unstack() method to \"pivot\"/transform/reorganise one of the levels of the index to become column headers.\n",
        "\n",
        "grouped = grouped.unstack()"
      ],
      "metadata": {
        "id": "JJoM2hQcPeMC"
      },
      "id": "JJoM2hQcPeMC",
      "execution_count": null,
      "outputs": []
    },
    {
      "cell_type": "code",
      "source": [
        "# plot a bar chart of the count of TV shows and movies by country\n",
        "grouped_10 = grouped.count().sort_values(ascending=False).head(10)\n",
        "grouped_10.plot(kind='bar', stacked=True, figsize=(10, 6))"
      ],
      "metadata": {
        "id": "3f_eoeXJQRDD"
      },
      "id": "3f_eoeXJQRDD",
      "execution_count": null,
      "outputs": []
    },
    {
      "cell_type": "code",
      "source": [
        "# group the data by type, and calculate the mean release year and count of show_id for each group\n",
        "grouped = df.groupby(['country', 'type']).agg({'release_year': 'mean', 'show_id': 'count'})\n",
        "\n",
        "# print the result\n",
        "print(grouped)"
      ],
      "metadata": {
        "id": "pd1bggPNR-fj"
      },
      "id": "pd1bggPNR-fj",
      "execution_count": null,
      "outputs": []
    },
    {
      "cell_type": "markdown",
      "source": [
        "### Grouby\n",
        "* grouping data based on one or more columns - categorical variables\n",
        "* split a dataset into groups based on a particular column or columns and then apply a function (such as mean, sum, count, etc.) to each group.\n",
        "\n",
        "```\n",
        "grouped = dataframe.groupby('column_name')\n",
        "```\n",
        "E.g.: Analyse of the distribution of tv shows to movies"
      ],
      "metadata": {
        "id": "p0Bmz_vVyMFR"
      },
      "id": "p0Bmz_vVyMFR"
    },
    {
      "cell_type": "code",
      "execution_count": null,
      "metadata": {
        "tags": [],
        "id": "gp39ZCw7-Kgt"
      },
      "outputs": [],
      "source": [
        "# df_type = subset_df.groupby('type')['type'].count()\n",
        "# df_type\n",
        "\n",
        "# OR\n",
        "\n",
        "df_type = subset_df.groupby('type').size()\n",
        "print(df_type)"
      ],
      "id": "gp39ZCw7-Kgt"
    },
    {
      "cell_type": "markdown",
      "source": [
        "Plot a pie chart"
      ],
      "metadata": {
        "id": "hi6JdIkHHOC7"
      },
      "id": "hi6JdIkHHOC7"
    },
    {
      "cell_type": "code",
      "source": [
        "# Plot the data as a pie chart\n",
        "df_type.plot(kind='pie', autopct='%1.1f%%')\n",
        "\n",
        "# Add title and labels\n",
        "plt.title('Distribution of TV Shows to Movies')\n",
        "plt.ylabel('')\n",
        "\n",
        "# Show the plot\n",
        "plt.show()"
      ],
      "metadata": {
        "id": "aOBnchyv-Kgu"
      },
      "execution_count": null,
      "outputs": [],
      "id": "aOBnchyv-Kgu"
    },
    {
      "cell_type": "code",
      "source": [
        "import pandas as pd\n",
        "\n",
        "# read in the dataset\n",
        "df = subset_df\n",
        "\n",
        "# group the data by country and release year, and count the number of titles in each group\n",
        "grouped = df.groupby(['country', 'release_year'])['show_id'].count()\n",
        "\n",
        "# print the result\n",
        "print(grouped)\n"
      ],
      "metadata": {
        "id": "BdG9oqP5MKKR"
      },
      "id": "BdG9oqP5MKKR",
      "execution_count": null,
      "outputs": []
    },
    {
      "cell_type": "markdown",
      "source": [
        "You can also pass a list of column names to group by multiple columns.\n",
        "\n",
        "Once you have grouped the data, you can apply various functions to the grouped data using the agg() method. For example, you can calculate the mean of each group like this:\n",
        "\n",
        "\n",
        "```\n",
        "grouped = dataframe.groupby('column_name')\n",
        "grouped_mean = grouped.agg('mean')\n",
        "\n",
        "```\n"
      ],
      "metadata": {
        "id": "4YBlZV0vMJHO"
      },
      "id": "4YBlZV0vMJHO"
    },
    {
      "cell_type": "code",
      "source": [
        "import pandas as pd\n",
        "import matplotlib.pyplot as plt\n",
        "\n",
        "# Load the dataset into a pandas dataframe\n",
        "df = subset_df\n",
        "# Filter the data to only include release years after 2010\n",
        "df = df[df['release_year'] >= 2010]\n",
        "\n",
        "# Group the data by release year and type, and calculate the mean duration\n",
        "grouped = df.groupby(['release_year', 'type']).agg({'duration': 'mean'})\n",
        "\n",
        "# Reset the index to make the release year and type columns regular columns\n",
        "grouped = grouped.reset_index()\n"
      ],
      "metadata": {
        "id": "5eRGvRfvTFjn"
      },
      "id": "5eRGvRfvTFjn",
      "execution_count": null,
      "outputs": []
    },
    {
      "cell_type": "markdown",
      "source": [
        "Plot a line graph"
      ],
      "metadata": {
        "id": "6BEhZHYEHGu6"
      },
      "id": "6BEhZHYEHGu6"
    },
    {
      "cell_type": "code",
      "source": [
        "# Plot the data as a line chart\n",
        "plt.plot(grouped[grouped['type'] == 'TV Show']['release_year'], grouped[grouped['type'] == 'TV Show']['duration'], label='TV Show')\n",
        "plt.plot(grouped[grouped['type'] == 'Movie']['release_year'], grouped[grouped['type'] == 'Movie']['duration'], label='Movie')\n",
        "\n",
        "# Add labels and legend to the chart\n",
        "plt.xlabel('Release Year')\n",
        "plt.ylabel('Average Duration')\n",
        "plt.title('Average Duration of TV Shows and Movies Released After 2010')\n",
        "plt.legend()\n",
        "\n",
        "# Display the chart\n",
        "plt.show()"
      ],
      "metadata": {
        "id": "6zCPh3b-UzX9"
      },
      "id": "6zCPh3b-UzX9",
      "execution_count": null,
      "outputs": []
    },
    {
      "cell_type": "code",
      "source": [],
      "metadata": {
        "id": "W3ZfdrOmUzIs"
      },
      "id": "W3ZfdrOmUzIs",
      "execution_count": null,
      "outputs": []
    },
    {
      "cell_type": "markdown",
      "source": [
        "### Filtering\n",
        "\n",
        "E.g.: Determine the countries that produced the most movies in the year 2020."
      ],
      "metadata": {
        "id": "u0fxFV6b9EBh"
      },
      "id": "u0fxFV6b9EBh"
    },
    {
      "cell_type": "code",
      "source": [
        "import pandas as pd\n",
        "import matplotlib.pyplot as plt\n",
        "\n",
        "# Load the dataset into a pandas DataFrame\n",
        "df = netflix_df\n",
        "\n",
        "# Filter the DataFrame to only include movies released in 2021\n",
        "movies_2021 = df[(df[\"type\"] == \"Movie\") & (df[\"release_year\"] == 2020)]\n",
        "\n",
        "# Group the data by country and count the number of movies in each group\n",
        "grouped = movies_2021.groupby(\"country\")[\"show_id\"].count().sort_values(ascending=False)\n"
      ],
      "metadata": {
        "id": "d7e5QNx19OS4"
      },
      "id": "d7e5QNx19OS4",
      "execution_count": null,
      "outputs": []
    },
    {
      "cell_type": "markdown",
      "source": [
        "Plot a bar graph"
      ],
      "metadata": {
        "id": "A7A8EvHeHCYq"
      },
      "id": "A7A8EvHeHCYq"
    },
    {
      "cell_type": "code",
      "source": [
        "ax = grouped.plot(kind=\"bar\", figsize=(10, 5))\n",
        "ax.set_xlabel(\"Country\")\n",
        "ax.set_ylabel(\"Number of Movies Released in 2020\")\n",
        "ax.set_title(\"Number of Movies by Country for 2020\")\n",
        "plt.show()"
      ],
      "metadata": {
        "id": "3_VZQ_LcBXMC"
      },
      "id": "3_VZQ_LcBXMC",
      "execution_count": null,
      "outputs": []
    },
    {
      "cell_type": "markdown",
      "source": [
        "Get the top 10 countries with most movies"
      ],
      "metadata": {
        "id": "Z5S3l2SiKeBt"
      },
      "id": "Z5S3l2SiKeBt"
    },
    {
      "cell_type": "code",
      "source": [
        "# Let's get top 10\n",
        "grouped = movies_2021.groupby(\"country\")[\"show_id\"].count().sort_values(ascending=False).head(10)\n"
      ],
      "metadata": {
        "id": "DYdHryg8BIUZ"
      },
      "id": "DYdHryg8BIUZ",
      "execution_count": null,
      "outputs": []
    },
    {
      "cell_type": "markdown",
      "source": [
        "Plot horizontal bar graph"
      ],
      "metadata": {
        "id": "RtRGSVEDG-LC"
      },
      "id": "RtRGSVEDG-LC"
    },
    {
      "cell_type": "code",
      "source": [
        "# Create a horizontal bar graph of the counts by country\n",
        "\n",
        "ax = grouped.sort_values().plot(kind=\"barh\", figsize=(10, 6))\n",
        "ax.set_xlabel(\"Number of Movies Released\")\n",
        "ax.set_ylabel(\"Country\")\n",
        "ax.set_title(\"Top 10 Countries with Most Movies Released in 2020\")\n",
        "plt.show()\n"
      ],
      "metadata": {
        "id": "vTOjiL5AA84j"
      },
      "id": "vTOjiL5AA84j",
      "execution_count": null,
      "outputs": []
    }
  ],
  "metadata": {
    "kernelspec": {
      "display_name": "Python 3",
      "language": "python",
      "name": "python3"
    },
    "language_info": {
      "codemirror_mode": {
        "name": "ipython",
        "version": 3
      },
      "file_extension": ".py",
      "mimetype": "text/x-python",
      "name": "python",
      "nbconvert_exporter": "python",
      "pygments_lexer": "ipython3",
      "version": "3.8.8"
    },
    "colab": {
      "provenance": [],
      "include_colab_link": true
    }
  },
  "nbformat": 4,
  "nbformat_minor": 5
}